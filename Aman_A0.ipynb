{
 "cells": [
  {
   "cell_type": "code",
   "execution_count": 3,
   "id": "d2b15e58-3e60-4d66-88ef-763812926d76",
   "metadata": {},
   "outputs": [],
   "source": [
    "# Import the NumPy library\n",
    "import numpy as np"
   ]
  },
  {
   "cell_type": "code",
   "execution_count": 9,
   "id": "d7d43d18-64ba-4b17-8bb9-525e2d5d5da8",
   "metadata": {},
   "outputs": [
    {
     "name": "stdout",
     "output_type": "stream",
     "text": [
      "Original array: [ 2  5 12 32 76]\n",
      "Array multiplied by 2: [  4  10  24  64 152]\n",
      "Addition of the elements inside the array 127\n"
     ]
    }
   ],
   "source": [
    "array = np.array([2, 5, 12, 32, 76])\n",
    "print(\"Original array:\", array)\n",
    "print(\"Array multiplied by 2:\", array * 2)\n",
    "print(\"Addition of the elements inside the array\",np.sum(array))"
   ]
  },
  {
   "cell_type": "code",
   "execution_count": null,
   "id": "50c9a343-ada7-4327-898a-88cca8bd4eff",
   "metadata": {},
   "outputs": [],
   "source": [
    "# Checking the version of the numpy \n",
    "print(\"NumPy version:\", np.__version__)"
   ]
  },
  {
   "cell_type": "code",
   "execution_count": null,
   "id": "09c2c646-1c0a-42ad-9063-38171c60a57f",
   "metadata": {},
   "outputs": [],
   "source": []
  }
 ],
 "metadata": {
  "kernelspec": {
   "display_name": "Python [conda env:base] *",
   "language": "python",
   "name": "conda-base-py"
  },
  "language_info": {
   "codemirror_mode": {
    "name": "ipython",
    "version": 3
   },
   "file_extension": ".py",
   "mimetype": "text/x-python",
   "name": "python",
   "nbconvert_exporter": "python",
   "pygments_lexer": "ipython3",
   "version": "3.12.7"
  }
 },
 "nbformat": 4,
 "nbformat_minor": 5
}
